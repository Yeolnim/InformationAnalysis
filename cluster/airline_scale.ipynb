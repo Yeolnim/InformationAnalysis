{
 "cells": [
  {
   "cell_type": "code",
   "execution_count": 1,
   "metadata": {},
   "outputs": [
    {
     "name": "stdout",
     "output_type": "stream",
     "text": [
      "原始数据的形状为： (62988, 44)\n",
      "删除缺失记录后数据的形状为： (62299, 44)\n",
      "删除异常记录后数据的形状为： (62044, 44)\n",
      "构建的LRFMC特征前5行为：\n",
      "            0  FLIGHT_COUNT  LAST_TO_END  avg_discount  SEG_KM_SUM\n",
      "0  90.200000           210            1      0.961639      580717\n",
      "1  86.566667           140            7      1.252314      293678\n",
      "2  87.166667           135           11      1.254676      283712\n",
      "3  68.233333            23           97      1.090870      281336\n",
      "4  60.533333           152            5      0.970658      309928\n",
      "标准化后LRFMC五个特征为：\n",
      " [[ 1.43571897 14.03412875 -0.94495516  1.29555058 26.76136996]\n",
      " [ 1.30716214  9.07328567 -0.9119018   2.86819902 13.1269701 ]\n",
      " [ 1.32839171  8.71893974 -0.88986623  2.88097321 12.65358345]\n",
      " [ 0.65848092  0.78159082 -0.41610151  1.99472974 12.54072306]\n",
      " [ 0.38603481  9.92371591 -0.92291959  1.3443455  13.89884778]]\n"
     ]
    },
    {
     "name": "stderr",
     "output_type": "stream",
     "text": [
      "D:\\Python\\Anaconda3\\lib\\site-packages\\sklearn\\preprocessing\\data.py:645: DataConversionWarning: Data with input dtype int64, float64 were all converted to float64 by StandardScaler.\n",
      "  return self.partial_fit(X, y)\n",
      "D:\\Python\\Anaconda3\\lib\\site-packages\\sklearn\\base.py:464: DataConversionWarning: Data with input dtype int64, float64 were all converted to float64 by StandardScaler.\n",
      "  return self.fit(X, **fit_params).transform(X)\n"
     ]
    }
   ],
   "source": [
    "# %load 任务7.2 预处理航空客户数据.py\n",
    "\n",
    "###############################################################################\n",
    "#######################           任务实现             ########################\n",
    "###############################################################################\n",
    "\n",
    "# 代码 7-1\n",
    "import numpy as np\n",
    "import pandas as pd\n",
    "airline_data = pd.read_csv(\"air_data.csv\",\n",
    "    encoding=\"gb18030\") #导入航空数据\n",
    "print('原始数据的形状为：',airline_data.shape)\n",
    "## 去除票价为空的记录\n",
    "exp1 = airline_data[\"SUM_YR_1\"].notnull()\n",
    "exp2 = airline_data[\"SUM_YR_2\"].notnull()\n",
    "exp = exp1 & exp2\n",
    "airline_notnull = airline_data.loc[exp,:]\n",
    "print('删除缺失记录后数据的形状为：',airline_notnull.shape)\n",
    "\n",
    "\n",
    "#只保留票价非零的，或者平均折扣率不为0且总飞行公里数大于0的记录。\n",
    "index1 = airline_notnull['SUM_YR_1'] != 0\n",
    "index2 = airline_notnull['SUM_YR_2'] != 0\n",
    "index3 = (airline_notnull['SEG_KM_SUM']> 0) & \\\n",
    "    (airline_notnull['avg_discount'] != 0)  \n",
    "airline = airline_notnull[(index1 | index2) & index3]\n",
    "print('删除异常记录后数据的形状为：',airline.shape)\n",
    "\n",
    "\n",
    "\n",
    "# 代码 7-2\n",
    "## 选取需求特征\n",
    "airline_selection = airline[[\"FFP_DATE\",\"LOAD_TIME\",\n",
    "    \"FLIGHT_COUNT\",\"LAST_TO_END\",\n",
    "    \"avg_discount\",\"SEG_KM_SUM\"]]\n",
    "## 构建L特征\n",
    "L = pd.to_datetime(airline_selection[\"LOAD_TIME\"]) - \\\n",
    "pd.to_datetime(airline_selection[\"FFP_DATE\"])\n",
    "L = L.astype(\"str\").str.split().str[0]\n",
    "L = L.astype(\"int\")/30\n",
    "## 合并特征\n",
    "airline_features = pd.concat([L,\n",
    "    airline_selection.iloc[:,2:]],axis = 1)\n",
    "print('构建的LRFMC特征前5行为：\\n',airline_features.head())\n",
    "\n",
    "\n",
    "\n",
    "# 代码 7-3\n",
    "from sklearn.preprocessing import StandardScaler\n",
    "data = StandardScaler().fit_transform(airline_features)\n",
    "np.savez('airline_scale.npz',data)\n",
    "print('标准化后LRFMC五个特征为：\\n',data[:5,:])\n",
    "\n"
   ]
  },
  {
   "cell_type": "code",
   "execution_count": 2,
   "metadata": {},
   "outputs": [
    {
     "name": "stdout",
     "output_type": "stream",
     "text": [
      "<class 'numpy.lib.npyio.NpzFile'>\n",
      "[[ 0.05184321 -0.22680493 -0.00266815  2.19136467 -0.23125594]\n",
      " [-0.31368082 -0.57402062  1.68627205 -0.1733275  -0.53682451]\n",
      " [ 0.48333235  2.48322162 -0.7993897   0.30863251  2.42474345]\n",
      " [-0.7002121  -0.16114387 -0.41489162 -0.25513359 -0.16095881]\n",
      " [ 1.16067608 -0.08691922 -0.37722423 -0.15590586 -0.09484481]]\n",
      "[2 2 2 ... 3 1 1]\n",
      "最终每个类别的数目为：\n",
      " 3    24659\n",
      "4    15740\n",
      "1    12125\n",
      "2     5336\n",
      "0     4184\n",
      "dtype: int64\n"
     ]
    }
   ],
   "source": [
    "# %load 任务7.3 使用K-Means算法进行客户分群.py\n",
    "\n",
    "###############################################################################\n",
    "#######################           任务实现             #######################\n",
    "###############################################################################\n",
    "\n",
    "# 代码 7-4\n",
    "import numpy as np\n",
    "import pandas as pd\n",
    "from sklearn.cluster import KMeans #导入kmeans算法\n",
    "airline_scale = np.load('airline_scale.npz')['arr_0']\n",
    "print(type(np.load('airline_scale.npz')))\n",
    "k = 5 ## 确定聚类中心数\n",
    "#构建模型\n",
    "kmeans_model = KMeans(n_clusters = k,n_jobs=4,random_state=123)\n",
    "fit_kmeans = kmeans_model.fit(airline_scale)   #模型训练\n",
    "print(kmeans_model.cluster_centers_ )#查看聚类中心\n",
    "\n",
    "print(kmeans_model.labels_ )#查看样本的类别标签\n",
    "\n",
    "#统计不同类别样本的数目\n",
    "r1 = pd.Series(kmeans_model.labels_).value_counts()\n",
    "print('最终每个类别的数目为：\\n',r1)\n",
    "\n"
   ]
  }
 ],
 "metadata": {
  "kernelspec": {
   "display_name": "Python 3",
   "language": "python",
   "name": "python3"
  },
  "language_info": {
   "codemirror_mode": {
    "name": "ipython",
    "version": 3
   },
   "file_extension": ".py",
   "mimetype": "text/x-python",
   "name": "python",
   "nbconvert_exporter": "python",
   "pygments_lexer": "ipython3",
   "version": "3.7.3"
  }
 },
 "nbformat": 4,
 "nbformat_minor": 2
}
