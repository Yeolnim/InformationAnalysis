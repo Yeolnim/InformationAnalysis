{
 "cells": [
  {
   "cell_type": "code",
   "execution_count": 17,
   "metadata": {},
   "outputs": [
    {
     "name": "stdout",
     "output_type": "stream",
     "text": [
      "**** Index(['custserv_calls', 'day_calls', 'day_charge', 'day_mins', 'eve_calls',\n",
      "       'eve_charge', 'eve_mins', 'intl_calls', 'intl_charge', 'intl_mins',\n",
      "       'night_calls', 'night_charge', 'night_mins', 'vmail_message',\n",
      "       'intl_plan_yes', 'vmail_plan_yes'],\n",
      "      dtype='object')\n",
      "      actualValue  predictedValue0\n",
      "3323            1         0.611475\n",
      "3324            0         0.916800\n",
      "3325            0         0.894053\n",
      "3326            0         0.942477\n",
      "3327            0         0.918510\n",
      "3328            0         0.948394\n",
      "3329            0         0.733116\n",
      "3330            0         0.776452\n",
      "3331            0         0.709707\n",
      "3332            0         0.918851\n",
      "0.9\n"
     ]
    },
    {
     "name": "stderr",
     "output_type": "stream",
     "text": [
      "C:\\Users\\de\\Anaconda3\\lib\\site-packages\\sklearn\\linear_model\\logistic.py:432: FutureWarning: Default solver will be changed to 'lbfgs' in 0.22. Specify a solver to silence this warning.\n",
      "  FutureWarning)\n"
     ]
    }
   ],
   "source": [
    "import numpy as np\n",
    "import pandas as pd\n",
    "from sklearn.linear_model import LogisticRegression\n",
    " \n",
    "inputCsv='churn.csv'\n",
    "data=pd.read_csv(inputCsv)\n",
    "\n",
    "#数据预处理\n",
    "#将列标题的空格替换为下划线，将引号和问号去除，标题字母变为小写\n",
    "data.columns=data.columns.str.replace(' ','_').str.replace('\\'','').str.strip('?').str.lower()\n",
    "#将churn字段值中'.'删除,\n",
    "data.churn=data.churn.str.strip('.')\n",
    "#新增一个字段，将churn字段转换为01编码字段\n",
    "data['churn01']=np.where(data.churn=='True',1,0)\n",
    "#对字段intl_plan及vmail_plan进行独热编码（新增虚拟变量）哑变量，prefix设置产生变量的名字\n",
    "intl_plan_dummy=pd.get_dummies(data.intl_plan,prefix='intl_plan')\n",
    "vmail_plan_dummy=pd.get_dummies(data.vmail_plan,prefix='vmail_plan')\n",
    "#添加常数项及生成自变量和因变量\n",
    "x_data=data[data.columns.difference(['intl_plan',\n",
    "                                                          'vmail_plan',\n",
    "                                                          'churn01',\n",
    "                                                          'churn',\n",
    "                                                          'state',\n",
    "                                                          'phone',\n",
    "                                                          'account_length',\n",
    "                                                          'area_code'])].\\\n",
    "                          join(intl_plan_dummy.intl_plan_yes).join(vmail_plan_dummy.vmail_plan_yes)\n",
    "\n",
    "y_data=data['churn01']\n",
    "\n",
    "#将数据划分为训练集和测试集，训练集为第一行至倒数第10行，测试集为最后10行\n",
    "x_Train=x_data.iloc[0:-10,:]\n",
    "y_Train=y_data.iloc[0:-10]\n",
    "x_Test=x_data.tail(10)\n",
    "y_Test=y_data.tail(10)\n",
    " \n",
    "model = LogisticRegression(penalty='l2',dual=False,C=1.0,n_jobs=1,random_state=20,fit_intercept=True) #调用模型，但是并未经过任何调参操作，使用默认值\n",
    "'''\n",
    "参数说明：\n",
    "penalty：使用指定正则化项（默认：l2）\n",
    "dual: n_samples > n_features取False（默认）\n",
    "C：正则化强度的反，值越小正则化强度越大\n",
    "n_jobs: 指定线程数\n",
    "random_state：随机数生成器\n",
    "fit_intercept: 是否需要常量\n",
    "'''\n",
    "model.fit(x_Train,y_Train) #训练模型 \n",
    "predicted = model.predict_proba(x_Test)\n",
    "compare=pd.DataFrame({'predictedValue0':predicted[:,0],'actualValue':y_Test})\n",
    "print(compare)\n",
    "print(lr_model.score(x_Test,y_Test))\n"
   ]
  },
  {
   "cell_type": "code",
   "execution_count": null,
   "metadata": {
    "collapsed": true
   },
   "outputs": [],
   "source": []
  }
 ],
 "metadata": {
  "kernelspec": {
   "display_name": "Python 3",
   "language": "python",
   "name": "python3"
  },
  "language_info": {
   "codemirror_mode": {
    "name": "ipython",
    "version": 3
   },
   "file_extension": ".py",
   "mimetype": "text/x-python",
   "name": "python",
   "nbconvert_exporter": "python",
   "pygments_lexer": "ipython3",
   "version": "3.7.3"
  }
 },
 "nbformat": 4,
 "nbformat_minor": 2
}
