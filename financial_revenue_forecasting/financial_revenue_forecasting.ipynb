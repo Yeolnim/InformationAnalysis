{
 "cells": [
  {
   "cell_type": "code",
   "execution_count": 1,
   "metadata": {},
   "outputs": [
    {
     "name": "stdout",
     "output_type": "stream",
     "text": [
      "相关系数矩阵为：        x1    x2    x3    x4    x5    x6    x7    x8    x9   x10   x11   x12  \\\n",
      "x1   1.00  0.95  0.95  0.97  0.97  0.99  0.95  0.97  0.98  0.98 -0.29  0.94   \n",
      "x2   0.95  1.00  1.00  0.99  0.99  0.92  0.99  0.99  0.98  0.98 -0.13  0.89   \n",
      "x3   0.95  1.00  1.00  0.99  0.99  0.92  1.00  0.99  0.98  0.99 -0.15  0.89   \n",
      "x4   0.97  0.99  0.99  1.00  1.00  0.95  0.99  1.00  0.99  1.00 -0.19  0.91   \n",
      "x5   0.97  0.99  0.99  1.00  1.00  0.95  0.99  1.00  0.99  1.00 -0.18  0.90   \n",
      "x6   0.99  0.92  0.92  0.95  0.95  1.00  0.93  0.95  0.97  0.96 -0.34  0.95   \n",
      "x7   0.95  0.99  1.00  0.99  0.99  0.93  1.00  0.99  0.98  0.99 -0.15  0.89   \n",
      "x8   0.97  0.99  0.99  1.00  1.00  0.95  0.99  1.00  0.99  1.00 -0.15  0.90   \n",
      "x9   0.98  0.98  0.98  0.99  0.99  0.97  0.98  0.99  1.00  0.99 -0.23  0.91   \n",
      "x10  0.98  0.98  0.99  1.00  1.00  0.96  0.99  1.00  0.99  1.00 -0.17  0.90   \n",
      "x11 -0.29 -0.13 -0.15 -0.19 -0.18 -0.34 -0.15 -0.15 -0.23 -0.17  1.00 -0.43   \n",
      "x12  0.94  0.89  0.89  0.91  0.90  0.95  0.89  0.90  0.91  0.90 -0.43  1.00   \n",
      "x13  0.96  1.00  1.00  1.00  0.99  0.94  1.00  1.00  0.99  0.99 -0.16  0.90   \n",
      "y    0.94  0.98  0.99  0.99  0.99  0.91  0.99  0.99  0.98  0.99 -0.12  0.87   \n",
      "\n",
      "      x13     y  \n",
      "x1   0.96  0.94  \n",
      "x2   1.00  0.98  \n",
      "x3   1.00  0.99  \n",
      "x4   1.00  0.99  \n",
      "x5   0.99  0.99  \n",
      "x6   0.94  0.91  \n",
      "x7   1.00  0.99  \n",
      "x8   1.00  0.99  \n",
      "x9   0.99  0.98  \n",
      "x10  0.99  0.99  \n",
      "x11 -0.16 -0.12  \n",
      "x12  0.90  0.87  \n",
      "x13  1.00  0.99  \n",
      "y    0.99  1.00  \n"
     ]
    }
   ],
   "source": [
    "# 任务8.2 分析财政收入数据特征的相关性\n",
    "\n",
    "# 代码 8-2\n",
    "import numpy as np\n",
    "import pandas as pd\n",
    "inputfile = 'data.csv' ## 输入的数据文件\n",
    "data = pd.read_csv(inputfile) ## 读取数据\n",
    "## 保留两位小数\n",
    "print('相关系数矩阵为：',np.round(data.corr(method = 'pearson'), 2))\n"
   ]
  },
  {
   "cell_type": "code",
   "execution_count": 2,
   "metadata": {},
   "outputs": [
    {
     "name": "stdout",
     "output_type": "stream",
     "text": [
      "相关系数为： [-1.8000e-04 -0.0000e+00  1.2414e-01 -1.0310e-02  6.5400e-02  1.2000e-04\n",
      "  3.1741e-01  3.4900e-02 -0.0000e+00  0.0000e+00  0.0000e+00  0.0000e+00\n",
      " -4.0300e-02]\n",
      "相关系数非零个数为： 8\n",
      "相关系数是否为零： [ True False  True  True  True  True  True  True False False False False\n",
      "  True]\n",
      "输出数据的维度为： (20, 8)\n"
     ]
    },
    {
     "name": "stderr",
     "output_type": "stream",
     "text": [
      "D:\\Python\\Anaconda3\\lib\\site-packages\\sklearn\\linear_model\\coordinate_descent.py:492: ConvergenceWarning: Objective did not converge. You might want to increase the number of iterations. Fitting data with very small alpha may cause precision problems.\n",
      "  ConvergenceWarning)\n"
     ]
    }
   ],
   "source": [
    "# 任务8.3 使用Lasso回归选取财政收入预测的关键特征\n",
    "\n",
    "# 代码 8-3\n",
    "import numpy as np\n",
    "import pandas as pd\n",
    "from sklearn.linear_model import Lasso\n",
    "inputfile = 'data.csv' #输入的数据文件\n",
    "data = pd.read_csv(inputfile) #读取数据\n",
    "lasso = Lasso(1000)  #调用Lasso()函数，设置λ的值为1000\n",
    "lasso.fit(data.iloc[:,0:13],data['y'])\n",
    "print('相关系数为：',np.round(lasso.coef_,5))  #输出结果，保留五位小数\n",
    "\n",
    "## 计算相关系数非零的个数\n",
    "print('相关系数非零个数为：',np.sum(lasso.coef_ != 0))\n",
    "\n",
    "mask = lasso.coef_ != 0  #返回一个相关系数是否为零的布尔数组\n",
    "print('相关系数是否为零：',mask)\n",
    "\n",
    "outputfile = 'new_reg_data.csv'  #输出的数据文件\n",
    "new_reg_data = data.iloc[:, mask]  #返回相关系数非零的数据\n",
    "new_reg_data.to_csv(outputfile)  #存储数据\n",
    "print('输出数据的维度为：',new_reg_data.shape)  #查看输出数据的维度\n"
   ]
  },
  {
   "cell_type": "code",
   "execution_count": 4,
   "metadata": {},
   "outputs": [
    {
     "name": "stdout",
     "output_type": "stream",
     "text": [
      "预测结果为：       Unnamed: 0          x1       x3        x4        x5          x6  \\\n",
      "2014         NaN  8142148.24  7042.31  43611.84  35046.63  8505522.58   \n",
      "2015         NaN  8460489.28  8166.92  47792.22  38384.22  8627139.31   \n",
      "\n",
      "           x7        x8       x13   y  \n",
      "2014  4600.40  18686.28  44506.47 NaN  \n",
      "2015  5214.78  21474.47  49945.88 NaN  \n"
     ]
    },
    {
     "ename": "KeyError",
     "evalue": "\"None of [Int64Index([1994, 1995, 1996, 1997, 1998, 1999, 2000, 2001, 2002, 2003, 2004,\\n            2005, 2006, 2007, 2008, 2009, 2010, 2011, 2012, 2013],\\n           dtype='int64')] are in the [index]\"",
     "output_type": "error",
     "traceback": [
      "\u001b[1;31m---------------------------------------------------------------------------\u001b[0m",
      "\u001b[1;31mKeyError\u001b[0m                                  Traceback (most recent call last)",
      "\u001b[1;32m<ipython-input-4-d23b267e2c28>\u001b[0m in \u001b[0;36m<module>\u001b[1;34m\u001b[0m\n\u001b[0;32m     36\u001b[0m \u001b[0mdata\u001b[0m \u001b[1;33m=\u001b[0m \u001b[0mpd\u001b[0m\u001b[1;33m.\u001b[0m\u001b[0mread_excel\u001b[0m\u001b[1;33m(\u001b[0m\u001b[0minputfile\u001b[0m\u001b[1;33m)\u001b[0m \u001b[1;31m#读取数据\u001b[0m\u001b[1;33m\u001b[0m\u001b[1;33m\u001b[0m\u001b[0m\n\u001b[0;32m     37\u001b[0m \u001b[0mfeature\u001b[0m \u001b[1;33m=\u001b[0m \u001b[1;33m[\u001b[0m\u001b[1;34m'x1'\u001b[0m\u001b[1;33m,\u001b[0m \u001b[1;34m'x3'\u001b[0m\u001b[1;33m,\u001b[0m \u001b[1;34m'x4'\u001b[0m\u001b[1;33m,\u001b[0m \u001b[1;34m'x5'\u001b[0m\u001b[1;33m,\u001b[0m \u001b[1;34m'x6'\u001b[0m\u001b[1;33m,\u001b[0m \u001b[1;34m'x7'\u001b[0m\u001b[1;33m,\u001b[0m \u001b[1;34m'x8'\u001b[0m\u001b[1;33m,\u001b[0m \u001b[1;34m'x13'\u001b[0m\u001b[1;33m]\u001b[0m\u001b[1;33m\u001b[0m\u001b[1;33m\u001b[0m\u001b[0m\n\u001b[1;32m---> 38\u001b[1;33m \u001b[0mdata_train\u001b[0m \u001b[1;33m=\u001b[0m \u001b[0mdata\u001b[0m\u001b[1;33m.\u001b[0m\u001b[0mloc\u001b[0m\u001b[1;33m[\u001b[0m\u001b[0mrange\u001b[0m\u001b[1;33m(\u001b[0m\u001b[1;36m1994\u001b[0m\u001b[1;33m,\u001b[0m\u001b[1;36m2014\u001b[0m\u001b[1;33m)\u001b[0m\u001b[1;33m]\u001b[0m\u001b[1;33m.\u001b[0m\u001b[0mcopy\u001b[0m\u001b[1;33m(\u001b[0m\u001b[1;33m)\u001b[0m\u001b[1;31m#取2014年前的数据建模\u001b[0m\u001b[1;33m\u001b[0m\u001b[1;33m\u001b[0m\u001b[0m\n\u001b[0m\u001b[0;32m     39\u001b[0m \u001b[0mdata_mean\u001b[0m \u001b[1;33m=\u001b[0m \u001b[0mdata_train\u001b[0m\u001b[1;33m.\u001b[0m\u001b[0mmean\u001b[0m\u001b[1;33m(\u001b[0m\u001b[1;33m)\u001b[0m\u001b[1;33m\u001b[0m\u001b[1;33m\u001b[0m\u001b[0m\n\u001b[0;32m     40\u001b[0m \u001b[0mdata_std\u001b[0m \u001b[1;33m=\u001b[0m \u001b[0mdata_train\u001b[0m\u001b[1;33m.\u001b[0m\u001b[0mstd\u001b[0m\u001b[1;33m(\u001b[0m\u001b[1;33m)\u001b[0m\u001b[1;33m\u001b[0m\u001b[1;33m\u001b[0m\u001b[0m\n",
      "\u001b[1;32mD:\\Python\\Anaconda3\\lib\\site-packages\\pandas\\core\\indexing.py\u001b[0m in \u001b[0;36m__getitem__\u001b[1;34m(self, key)\u001b[0m\n\u001b[0;32m   1498\u001b[0m \u001b[1;33m\u001b[0m\u001b[0m\n\u001b[0;32m   1499\u001b[0m             \u001b[0mmaybe_callable\u001b[0m \u001b[1;33m=\u001b[0m \u001b[0mcom\u001b[0m\u001b[1;33m.\u001b[0m\u001b[0mapply_if_callable\u001b[0m\u001b[1;33m(\u001b[0m\u001b[0mkey\u001b[0m\u001b[1;33m,\u001b[0m \u001b[0mself\u001b[0m\u001b[1;33m.\u001b[0m\u001b[0mobj\u001b[0m\u001b[1;33m)\u001b[0m\u001b[1;33m\u001b[0m\u001b[1;33m\u001b[0m\u001b[0m\n\u001b[1;32m-> 1500\u001b[1;33m             \u001b[1;32mreturn\u001b[0m \u001b[0mself\u001b[0m\u001b[1;33m.\u001b[0m\u001b[0m_getitem_axis\u001b[0m\u001b[1;33m(\u001b[0m\u001b[0mmaybe_callable\u001b[0m\u001b[1;33m,\u001b[0m \u001b[0maxis\u001b[0m\u001b[1;33m=\u001b[0m\u001b[0maxis\u001b[0m\u001b[1;33m)\u001b[0m\u001b[1;33m\u001b[0m\u001b[1;33m\u001b[0m\u001b[0m\n\u001b[0m\u001b[0;32m   1501\u001b[0m \u001b[1;33m\u001b[0m\u001b[0m\n\u001b[0;32m   1502\u001b[0m     \u001b[1;32mdef\u001b[0m \u001b[0m_is_scalar_access\u001b[0m\u001b[1;33m(\u001b[0m\u001b[0mself\u001b[0m\u001b[1;33m,\u001b[0m \u001b[0mkey\u001b[0m\u001b[1;33m)\u001b[0m\u001b[1;33m:\u001b[0m\u001b[1;33m\u001b[0m\u001b[1;33m\u001b[0m\u001b[0m\n",
      "\u001b[1;32mD:\\Python\\Anaconda3\\lib\\site-packages\\pandas\\core\\indexing.py\u001b[0m in \u001b[0;36m_getitem_axis\u001b[1;34m(self, key, axis)\u001b[0m\n\u001b[0;32m   1900\u001b[0m                     \u001b[1;32mraise\u001b[0m \u001b[0mValueError\u001b[0m\u001b[1;33m(\u001b[0m\u001b[1;34m'Cannot index with multidimensional key'\u001b[0m\u001b[1;33m)\u001b[0m\u001b[1;33m\u001b[0m\u001b[1;33m\u001b[0m\u001b[0m\n\u001b[0;32m   1901\u001b[0m \u001b[1;33m\u001b[0m\u001b[0m\n\u001b[1;32m-> 1902\u001b[1;33m                 \u001b[1;32mreturn\u001b[0m \u001b[0mself\u001b[0m\u001b[1;33m.\u001b[0m\u001b[0m_getitem_iterable\u001b[0m\u001b[1;33m(\u001b[0m\u001b[0mkey\u001b[0m\u001b[1;33m,\u001b[0m \u001b[0maxis\u001b[0m\u001b[1;33m=\u001b[0m\u001b[0maxis\u001b[0m\u001b[1;33m)\u001b[0m\u001b[1;33m\u001b[0m\u001b[1;33m\u001b[0m\u001b[0m\n\u001b[0m\u001b[0;32m   1903\u001b[0m \u001b[1;33m\u001b[0m\u001b[0m\n\u001b[0;32m   1904\u001b[0m             \u001b[1;31m# nested tuple slicing\u001b[0m\u001b[1;33m\u001b[0m\u001b[1;33m\u001b[0m\u001b[1;33m\u001b[0m\u001b[0m\n",
      "\u001b[1;32mD:\\Python\\Anaconda3\\lib\\site-packages\\pandas\\core\\indexing.py\u001b[0m in \u001b[0;36m_getitem_iterable\u001b[1;34m(self, key, axis)\u001b[0m\n\u001b[0;32m   1203\u001b[0m             \u001b[1;31m# A collection of keys\u001b[0m\u001b[1;33m\u001b[0m\u001b[1;33m\u001b[0m\u001b[1;33m\u001b[0m\u001b[0m\n\u001b[0;32m   1204\u001b[0m             keyarr, indexer = self._get_listlike_indexer(key, axis,\n\u001b[1;32m-> 1205\u001b[1;33m                                                          raise_missing=False)\n\u001b[0m\u001b[0;32m   1206\u001b[0m             return self.obj._reindex_with_indexers({axis: [keyarr, indexer]},\n\u001b[0;32m   1207\u001b[0m                                                    copy=True, allow_dups=True)\n",
      "\u001b[1;32mD:\\Python\\Anaconda3\\lib\\site-packages\\pandas\\core\\indexing.py\u001b[0m in \u001b[0;36m_get_listlike_indexer\u001b[1;34m(self, key, axis, raise_missing)\u001b[0m\n\u001b[0;32m   1159\u001b[0m         self._validate_read_indexer(keyarr, indexer,\n\u001b[0;32m   1160\u001b[0m                                     \u001b[0mo\u001b[0m\u001b[1;33m.\u001b[0m\u001b[0m_get_axis_number\u001b[0m\u001b[1;33m(\u001b[0m\u001b[0maxis\u001b[0m\u001b[1;33m)\u001b[0m\u001b[1;33m,\u001b[0m\u001b[1;33m\u001b[0m\u001b[1;33m\u001b[0m\u001b[0m\n\u001b[1;32m-> 1161\u001b[1;33m                                     raise_missing=raise_missing)\n\u001b[0m\u001b[0;32m   1162\u001b[0m         \u001b[1;32mreturn\u001b[0m \u001b[0mkeyarr\u001b[0m\u001b[1;33m,\u001b[0m \u001b[0mindexer\u001b[0m\u001b[1;33m\u001b[0m\u001b[1;33m\u001b[0m\u001b[0m\n\u001b[0;32m   1163\u001b[0m \u001b[1;33m\u001b[0m\u001b[0m\n",
      "\u001b[1;32mD:\\Python\\Anaconda3\\lib\\site-packages\\pandas\\core\\indexing.py\u001b[0m in \u001b[0;36m_validate_read_indexer\u001b[1;34m(self, key, indexer, axis, raise_missing)\u001b[0m\n\u001b[0;32m   1244\u001b[0m                 raise KeyError(\n\u001b[0;32m   1245\u001b[0m                     u\"None of [{key}] are in the [{axis}]\".format(\n\u001b[1;32m-> 1246\u001b[1;33m                         key=key, axis=self.obj._get_axis_name(axis)))\n\u001b[0m\u001b[0;32m   1247\u001b[0m \u001b[1;33m\u001b[0m\u001b[0m\n\u001b[0;32m   1248\u001b[0m             \u001b[1;31m# We (temporarily) allow for some missing keys with .loc, except in\u001b[0m\u001b[1;33m\u001b[0m\u001b[1;33m\u001b[0m\u001b[1;33m\u001b[0m\u001b[0m\n",
      "\u001b[1;31mKeyError\u001b[0m: \"None of [Int64Index([1994, 1995, 1996, 1997, 1998, 1999, 2000, 2001, 2002, 2003, 2004,\\n            2005, 2006, 2007, 2008, 2009, 2010, 2011, 2012, 2013],\\n           dtype='int64')] are in the [index]\""
     ]
    }
   ],
   "source": [
    "# 任务8.4 使用灰色预测和SVR构建财政收入预测模型\n",
    "\n",
    "# 代码 8-4\n",
    "import numpy as np\n",
    "import pandas as pd\n",
    "from GM11 import GM11 ## 引入自编的灰色预测函数\n",
    "inputfile = 'new_reg_data.csv' ##输入的数据文件\n",
    "inputfile1 = 'data.csv' ## 输入的数据文件\n",
    "new_reg_data = pd.read_csv(inputfile) ## 读取经过特征选择后的数据\n",
    "data = pd.read_csv(inputfile1) ##读取总的数据\n",
    "new_reg_data.index = range(1994, 2014)\n",
    "new_reg_data.loc[2014] = None\n",
    "new_reg_data.loc[2015] = None\n",
    "l = ['x1', 'x3', 'x4', 'x5', 'x6', 'x7', 'x8', 'x13']\n",
    "for i in l:\n",
    "    f = GM11(new_reg_data.loc[range(1994, 2014),i].values)[0]\n",
    "    new_reg_data.loc[2014,i] = f(len(new_reg_data)-1)#2014年预测结果\n",
    "    new_reg_data.loc[2015,i] = f(len(new_reg_data)) ##2015年预测结果\n",
    "    new_reg_data[i] = new_reg_data[i].round(2) ## 保留两位小数\n",
    "outputfile = 'new_reg_data_GM11.xls' ## 灰色预测后保存的路径\n",
    "y = list(data['y'].values) ## 提取财政收入列，合并至新数据框中\n",
    "y.extend([np.nan,np.nan])\n",
    "new_reg_data['y'] = y\n",
    "new_reg_data.to_excel(outputfile) ## 结果输出\n",
    "print('预测结果为：',new_reg_data.loc[2014:2015,:]) ##预测结果展示\n",
    "\n",
    "# 代码 8-5\n",
    "import pandas as pd\n",
    "import numpy as np\n",
    "from sklearn.svm import LinearSVR\n",
    "import matplotlib.pyplot as plt\n",
    "from sklearn.metrics import explained_variance_score,\\\n",
    "mean_absolute_error,mean_squared_error,\\\n",
    "median_absolute_error,r2_score\n",
    "inputfile = 'new_reg_data_GM11.xls' #灰色预测后保存的路径\n",
    "data = pd.read_excel(inputfile) #读取数据\n",
    "feature = ['x1', 'x3', 'x4', 'x5', 'x6', 'x7', 'x8', 'x13'] \n",
    "data_train = data.loc[range(1994,2014)].copy()#取2014年前的数据建模\n",
    "data_mean = data_train.mean()\n",
    "data_std = data_train.std()\n",
    "data_train = (data_train - data_mean)/data_std #数据标准化\n",
    "x_train = data_train[feature].values #特征数据\n",
    "y_train = data_train['y'].values #标签数据\n",
    "linearsvr = LinearSVR()   #调用LinearSVR()函数\n",
    "linearsvr.fit(x_train,y_train)\n",
    "x = ((data[feature] - data_mean[feature])/ \\\n",
    "data_std[feature]).values  #预测，并还原结果。\n",
    "data[u'y_pred'] = linearsvr.predict(x) * \\\n",
    "data_std['y'] + data_mean['y']\n",
    "## SVR预测后保存的结果\n",
    "outputfile = 'new_reg_data_GM11_revenue.xls'\n",
    "data.to_excel(outputfile)\n",
    "print('真实值与预测值分别为：',data[['y','y_pred']])\n",
    "\n",
    "print('预测图为：')\n",
    "data[['y','y_pred']].plot(subplots = True,style=['b-o','r-*'])\n",
    "plt.show()\n"
   ]
  }
 ],
 "metadata": {
  "kernelspec": {
   "display_name": "Python 3",
   "language": "python",
   "name": "python3"
  },
  "language_info": {
   "codemirror_mode": {
    "name": "ipython",
    "version": 3
   },
   "file_extension": ".py",
   "mimetype": "text/x-python",
   "name": "python",
   "nbconvert_exporter": "python",
   "pygments_lexer": "ipython3",
   "version": "3.7.3"
  }
 },
 "nbformat": 4,
 "nbformat_minor": 2
}
